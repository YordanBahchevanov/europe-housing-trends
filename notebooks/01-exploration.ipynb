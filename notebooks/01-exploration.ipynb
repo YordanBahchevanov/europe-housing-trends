{
 "cells": [
  {
   "cell_type": "code",
   "execution_count": 13,
   "id": "bad9a4ef",
   "metadata": {},
   "outputs": [],
   "source": [
    "import pandas as pd\n",
    "from pathlib import Path"
   ]
  },
  {
   "cell_type": "code",
   "execution_count": 14,
   "id": "6c8c8544",
   "metadata": {},
   "outputs": [],
   "source": [
    "PROC = Path(\"../data/processed\")"
   ]
  },
  {
   "cell_type": "code",
   "execution_count": 15,
   "id": "fb60a58c",
   "metadata": {},
   "outputs": [
    {
     "data": {
      "text/html": [
       "<div>\n",
       "<style scoped>\n",
       "    .dataframe tbody tr th:only-of-type {\n",
       "        vertical-align: middle;\n",
       "    }\n",
       "\n",
       "    .dataframe tbody tr th {\n",
       "        vertical-align: top;\n",
       "    }\n",
       "\n",
       "    .dataframe thead th {\n",
       "        text-align: right;\n",
       "    }\n",
       "</style>\n",
       "<table border=\"1\" class=\"dataframe\">\n",
       "  <thead>\n",
       "    <tr style=\"text-align: right;\">\n",
       "      <th></th>\n",
       "      <th>geo</th>\n",
       "      <th>time</th>\n",
       "      <th>value</th>\n",
       "      <th>unit</th>\n",
       "    </tr>\n",
       "  </thead>\n",
       "  <tbody>\n",
       "    <tr>\n",
       "      <th>0</th>\n",
       "      <td>Austria</td>\n",
       "      <td>2015</td>\n",
       "      <td>128.63</td>\n",
       "      <td>Annual average index, 2010=100</td>\n",
       "    </tr>\n",
       "    <tr>\n",
       "      <th>1</th>\n",
       "      <td>Austria</td>\n",
       "      <td>2016</td>\n",
       "      <td>136.27</td>\n",
       "      <td>Annual average index, 2010=100</td>\n",
       "    </tr>\n",
       "    <tr>\n",
       "      <th>2</th>\n",
       "      <td>Austria</td>\n",
       "      <td>2017</td>\n",
       "      <td>144.48</td>\n",
       "      <td>Annual average index, 2010=100</td>\n",
       "    </tr>\n",
       "    <tr>\n",
       "      <th>3</th>\n",
       "      <td>Austria</td>\n",
       "      <td>2018</td>\n",
       "      <td>153.57</td>\n",
       "      <td>Annual average index, 2010=100</td>\n",
       "    </tr>\n",
       "    <tr>\n",
       "      <th>4</th>\n",
       "      <td>Austria</td>\n",
       "      <td>2019</td>\n",
       "      <td>162.82</td>\n",
       "      <td>Annual average index, 2010=100</td>\n",
       "    </tr>\n",
       "  </tbody>\n",
       "</table>\n",
       "</div>"
      ],
      "text/plain": [
       "       geo  time   value                            unit\n",
       "0  Austria  2015  128.63  Annual average index, 2010=100\n",
       "1  Austria  2016  136.27  Annual average index, 2010=100\n",
       "2  Austria  2017  144.48  Annual average index, 2010=100\n",
       "3  Austria  2018  153.57  Annual average index, 2010=100\n",
       "4  Austria  2019  162.82  Annual average index, 2010=100"
      ]
     },
     "execution_count": 15,
     "metadata": {},
     "output_type": "execute_result"
    }
   ],
   "source": [
    "hpi = pd.read_csv(PROC / \"house_price_index_tidy.csv\")\n",
    "hpi.head()"
   ]
  },
  {
   "cell_type": "code",
   "execution_count": 16,
   "id": "f2d8bc80",
   "metadata": {},
   "outputs": [
    {
     "name": "stdout",
     "output_type": "stream",
     "text": [
      "<class 'pandas.core.frame.DataFrame'>\n",
      "RangeIndex: 340 entries, 0 to 339\n",
      "Data columns (total 4 columns):\n",
      " #   Column  Non-Null Count  Dtype  \n",
      "---  ------  --------------  -----  \n",
      " 0   geo     340 non-null    object \n",
      " 1   time    340 non-null    int64  \n",
      " 2   value   340 non-null    float64\n",
      " 3   unit    340 non-null    object \n",
      "dtypes: float64(1), int64(1), object(2)\n",
      "memory usage: 10.8+ KB\n"
     ]
    },
    {
     "data": {
      "text/plain": [
       "(35,\n",
       " ['Austria',\n",
       "  'Belgium',\n",
       "  'Bulgaria',\n",
       "  'Croatia',\n",
       "  'Cyprus',\n",
       "  'Czechia',\n",
       "  'Denmark',\n",
       "  'Estonia',\n",
       "  'Euro area (EA11-1999, EA12-2001, EA13-2007, EA15-2008, EA16-2009, EA17-2011, EA18-2014, EA19-2015, EA20-2023)',\n",
       "  'Euro area - 19 countries  (2015-2022)'])"
      ]
     },
     "execution_count": 16,
     "metadata": {},
     "output_type": "execute_result"
    }
   ],
   "source": [
    "hpi.info()\n",
    "hpi.describe()\n",
    "hpi[\"geo\"].nunique(), sorted(hpi[\"geo\"].unique())[:10]"
   ]
  },
  {
   "cell_type": "code",
   "execution_count": 17,
   "id": "b504503d",
   "metadata": {},
   "outputs": [
    {
     "data": {
      "image/png": "[encoded data removed]",
      "text/plain": [
       "<Figure size 640x480 with 1 Axes>"
      ]
     },
     "metadata": {},
     "output_type": "display_data"
    }
   ],
   "source": [
    "import matplotlib.pyplot as plt\n",
    "\n",
    "hpi_bg = hpi[hpi[\"geo\"] == \"Bulgaria\"].sort_values(\"time\")\n",
    "hpi_bg.plot(x=\"time\", y=\"value\", legend=False)\n",
    "plt.title(\"House Price Index — Bulgaria\")\n",
    "plt.xlabel(\"Year\"); plt.ylabel(\"Index\")\n",
    "plt.show()"
   ]
  },
  {
   "cell_type": "code",
   "execution_count": 21,
   "id": "172742aa",
   "metadata": {},
   "outputs": [
    {
     "data": {
      "text/plain": [
       "(       geo  time  house_price_index                            unit\n",
       " 0  Austria  2015             128.63  Annual average index, 2010=100\n",
       " 1  Austria  2016             136.27  Annual average index, 2010=100\n",
       " 2  Austria  2017             144.48  Annual average index, 2010=100\n",
       " 3  Austria  2018             153.57  Annual average index, 2010=100\n",
       " 4  Austria  2019             162.82  Annual average index, 2010=100,\n",
       "        geo  time  net_earnings\n",
       " 0  Austria  2015      34414.48\n",
       " 1  Austria  2016      36707.82\n",
       " 2  Austria  2017      37220.14\n",
       " 3  Austria  2018      37847.53\n",
       " 4  Austria  2019      41162.12)"
      ]
     },
     "execution_count": 21,
     "metadata": {},
     "output_type": "execute_result"
    }
   ],
   "source": [
    "earn = pd.read_csv(PROC / \"net_earnings_tidy.csv\")\n",
    "\n",
    "hpi_ = hpi.rename(columns={\"value\": \"house_price_index\"})\n",
    "earn_ = earn.rename(columns={\"value\": \"net_earnings\"})\n",
    "\n",
    "hpi_.head(), earn_.head()"
   ]
  },
  {
   "cell_type": "code",
   "execution_count": 22,
   "id": "58875e16",
   "metadata": {},
   "outputs": [
    {
     "data": {
      "text/plain": [
       "(       geo  time  house_price_index  net_earnings\n",
       " 0  Austria  2015             128.63      34414.48\n",
       " 1  Austria  2016             136.27      36707.82\n",
       " 2  Austria  2017             144.48      37220.14\n",
       " 3  Austria  2018             153.57      37847.53\n",
       " 4  Austria  2019             162.82      41162.12,\n",
       " (316, 4))"
      ]
     },
     "execution_count": 22,
     "metadata": {},
     "output_type": "execute_result"
    }
   ],
   "source": [
    "df2 = hpi_[[\"geo\",\"time\",\"house_price_index\"]].merge(\n",
    "    earn_[[\"geo\",\"time\",\"net_earnings\"]],\n",
    "    on=[\"geo\",\"time\"],\n",
    "    how=\"inner\"\n",
    ")\n",
    "df2.head(), df2.shape"
   ]
  },
  {
   "cell_type": "code",
   "execution_count": null,
   "id": "1d79dbd2",
   "metadata": {},
   "outputs": [],
   "source": []
  }
 ],
 "metadata": {
  "kernelspec": {
   "display_name": "Python (europe-housing-trends)",
   "language": "python",
   "name": "europe-housing-trends"
  },
  "language_info": {
   "codemirror_mode": {
    "name": "ipython",
    "version": 3
   },
   "file_extension": ".py",
   "mimetype": "text/x-python",
   "name": "python",
   "nbconvert_exporter": "python",
   "pygments_lexer": "ipython3",
   "version": "3.12.11"
  }
 },
 "nbformat": 4,
 "nbformat_minor": 5
}
